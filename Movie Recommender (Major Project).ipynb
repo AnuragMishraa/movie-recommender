{
 "cells": [
  {
   "cell_type": "markdown",
   "id": "1cbb2f04",
   "metadata": {},
   "source": [
    "# NAME: ANURAG MISHRA\n",
    "# SIC NO: 20BCED17\n",
    "# BRANCH: CEN"
   ]
  },
  {
   "cell_type": "markdown",
   "id": "185bdd19",
   "metadata": {},
   "source": [
    "# Part A: Data pre-processing"
   ]
  },
  {
   "cell_type": "markdown",
   "id": "7c7e53b5",
   "metadata": {},
   "source": [
    "# Step 1: Importing the libraries"
   ]
  },
  {
   "cell_type": "code",
   "execution_count": 56,
   "id": "a43f056e",
   "metadata": {},
   "outputs": [],
   "source": [
    "import pandas as pd\n",
    "import numpy as np\n",
    "import matplotlib.pyplot as plt"
   ]
  },
  {
   "cell_type": "markdown",
   "id": "72b8ee82",
   "metadata": {},
   "source": [
    "# Step 2: Importing the datasets"
   ]
  },
  {
   "cell_type": "code",
   "execution_count": 57,
   "id": "74c8c642",
   "metadata": {},
   "outputs": [],
   "source": [
    "movies=pd.read_csv('movies.csv',usecols=['movieId','title'])\n",
    "ratings=pd.read_csv('ratings.csv',usecols=['userId', 'movieId', 'rating'])"
   ]
  },
  {
   "cell_type": "code",
   "execution_count": 58,
   "id": "c8a04801",
   "metadata": {},
   "outputs": [
    {
     "data": {
      "text/html": [
       "<div>\n",
       "<style scoped>\n",
       "    .dataframe tbody tr th:only-of-type {\n",
       "        vertical-align: middle;\n",
       "    }\n",
       "\n",
       "    .dataframe tbody tr th {\n",
       "        vertical-align: top;\n",
       "    }\n",
       "\n",
       "    .dataframe thead th {\n",
       "        text-align: right;\n",
       "    }\n",
       "</style>\n",
       "<table border=\"1\" class=\"dataframe\">\n",
       "  <thead>\n",
       "    <tr style=\"text-align: right;\">\n",
       "      <th></th>\n",
       "      <th>movieId</th>\n",
       "      <th>title</th>\n",
       "    </tr>\n",
       "  </thead>\n",
       "  <tbody>\n",
       "    <tr>\n",
       "      <th>0</th>\n",
       "      <td>1</td>\n",
       "      <td>Toy Story (1995)</td>\n",
       "    </tr>\n",
       "    <tr>\n",
       "      <th>1</th>\n",
       "      <td>2</td>\n",
       "      <td>Jumanji (1995)</td>\n",
       "    </tr>\n",
       "    <tr>\n",
       "      <th>2</th>\n",
       "      <td>3</td>\n",
       "      <td>Grumpier Old Men (1995)</td>\n",
       "    </tr>\n",
       "    <tr>\n",
       "      <th>3</th>\n",
       "      <td>4</td>\n",
       "      <td>Waiting to Exhale (1995)</td>\n",
       "    </tr>\n",
       "    <tr>\n",
       "      <th>4</th>\n",
       "      <td>5</td>\n",
       "      <td>Father of the Bride Part II (1995)</td>\n",
       "    </tr>\n",
       "    <tr>\n",
       "      <th>...</th>\n",
       "      <td>...</td>\n",
       "      <td>...</td>\n",
       "    </tr>\n",
       "    <tr>\n",
       "      <th>9737</th>\n",
       "      <td>193581</td>\n",
       "      <td>Black Butler: Book of the Atlantic (2017)</td>\n",
       "    </tr>\n",
       "    <tr>\n",
       "      <th>9738</th>\n",
       "      <td>193583</td>\n",
       "      <td>No Game No Life: Zero (2017)</td>\n",
       "    </tr>\n",
       "    <tr>\n",
       "      <th>9739</th>\n",
       "      <td>193585</td>\n",
       "      <td>Flint (2017)</td>\n",
       "    </tr>\n",
       "    <tr>\n",
       "      <th>9740</th>\n",
       "      <td>193587</td>\n",
       "      <td>Bungo Stray Dogs: Dead Apple (2018)</td>\n",
       "    </tr>\n",
       "    <tr>\n",
       "      <th>9741</th>\n",
       "      <td>193609</td>\n",
       "      <td>Andrew Dice Clay: Dice Rules (1991)</td>\n",
       "    </tr>\n",
       "  </tbody>\n",
       "</table>\n",
       "<p>9742 rows × 2 columns</p>\n",
       "</div>"
      ],
      "text/plain": [
       "      movieId                                      title\n",
       "0           1                           Toy Story (1995)\n",
       "1           2                             Jumanji (1995)\n",
       "2           3                    Grumpier Old Men (1995)\n",
       "3           4                   Waiting to Exhale (1995)\n",
       "4           5         Father of the Bride Part II (1995)\n",
       "...       ...                                        ...\n",
       "9737   193581  Black Butler: Book of the Atlantic (2017)\n",
       "9738   193583               No Game No Life: Zero (2017)\n",
       "9739   193585                               Flint (2017)\n",
       "9740   193587        Bungo Stray Dogs: Dead Apple (2018)\n",
       "9741   193609        Andrew Dice Clay: Dice Rules (1991)\n",
       "\n",
       "[9742 rows x 2 columns]"
      ]
     },
     "execution_count": 58,
     "metadata": {},
     "output_type": "execute_result"
    }
   ],
   "source": [
    "movies"
   ]
  },
  {
   "cell_type": "code",
   "execution_count": 59,
   "id": "daca7090",
   "metadata": {},
   "outputs": [
    {
     "data": {
      "text/html": [
       "<div>\n",
       "<style scoped>\n",
       "    .dataframe tbody tr th:only-of-type {\n",
       "        vertical-align: middle;\n",
       "    }\n",
       "\n",
       "    .dataframe tbody tr th {\n",
       "        vertical-align: top;\n",
       "    }\n",
       "\n",
       "    .dataframe thead th {\n",
       "        text-align: right;\n",
       "    }\n",
       "</style>\n",
       "<table border=\"1\" class=\"dataframe\">\n",
       "  <thead>\n",
       "    <tr style=\"text-align: right;\">\n",
       "      <th></th>\n",
       "      <th>userId</th>\n",
       "      <th>movieId</th>\n",
       "      <th>rating</th>\n",
       "    </tr>\n",
       "  </thead>\n",
       "  <tbody>\n",
       "    <tr>\n",
       "      <th>0</th>\n",
       "      <td>1</td>\n",
       "      <td>1</td>\n",
       "      <td>4.0</td>\n",
       "    </tr>\n",
       "    <tr>\n",
       "      <th>1</th>\n",
       "      <td>1</td>\n",
       "      <td>3</td>\n",
       "      <td>4.0</td>\n",
       "    </tr>\n",
       "    <tr>\n",
       "      <th>2</th>\n",
       "      <td>1</td>\n",
       "      <td>6</td>\n",
       "      <td>4.0</td>\n",
       "    </tr>\n",
       "    <tr>\n",
       "      <th>3</th>\n",
       "      <td>1</td>\n",
       "      <td>47</td>\n",
       "      <td>5.0</td>\n",
       "    </tr>\n",
       "    <tr>\n",
       "      <th>4</th>\n",
       "      <td>1</td>\n",
       "      <td>50</td>\n",
       "      <td>5.0</td>\n",
       "    </tr>\n",
       "    <tr>\n",
       "      <th>...</th>\n",
       "      <td>...</td>\n",
       "      <td>...</td>\n",
       "      <td>...</td>\n",
       "    </tr>\n",
       "    <tr>\n",
       "      <th>100831</th>\n",
       "      <td>610</td>\n",
       "      <td>166534</td>\n",
       "      <td>4.0</td>\n",
       "    </tr>\n",
       "    <tr>\n",
       "      <th>100832</th>\n",
       "      <td>610</td>\n",
       "      <td>168248</td>\n",
       "      <td>5.0</td>\n",
       "    </tr>\n",
       "    <tr>\n",
       "      <th>100833</th>\n",
       "      <td>610</td>\n",
       "      <td>168250</td>\n",
       "      <td>5.0</td>\n",
       "    </tr>\n",
       "    <tr>\n",
       "      <th>100834</th>\n",
       "      <td>610</td>\n",
       "      <td>168252</td>\n",
       "      <td>5.0</td>\n",
       "    </tr>\n",
       "    <tr>\n",
       "      <th>100835</th>\n",
       "      <td>610</td>\n",
       "      <td>170875</td>\n",
       "      <td>3.0</td>\n",
       "    </tr>\n",
       "  </tbody>\n",
       "</table>\n",
       "<p>100836 rows × 3 columns</p>\n",
       "</div>"
      ],
      "text/plain": [
       "        userId  movieId  rating\n",
       "0            1        1     4.0\n",
       "1            1        3     4.0\n",
       "2            1        6     4.0\n",
       "3            1       47     5.0\n",
       "4            1       50     5.0\n",
       "...        ...      ...     ...\n",
       "100831     610   166534     4.0\n",
       "100832     610   168248     5.0\n",
       "100833     610   168250     5.0\n",
       "100834     610   168252     5.0\n",
       "100835     610   170875     3.0\n",
       "\n",
       "[100836 rows x 3 columns]"
      ]
     },
     "execution_count": 59,
     "metadata": {},
     "output_type": "execute_result"
    }
   ],
   "source": [
    "ratings"
   ]
  },
  {
   "cell_type": "code",
   "execution_count": 60,
   "id": "363f9c1b",
   "metadata": {},
   "outputs": [
    {
     "name": "stdout",
     "output_type": "stream",
     "text": [
      "There are 610 unique users and 9724 unique movies in this data set\n"
     ]
    }
   ],
   "source": [
    "users = len(ratings.userId.unique())\n",
    "items = len(ratings.movieId.unique())\n",
    "print('There are {} unique users and {} unique movies in this data set'.format(users, items))"
   ]
  },
  {
   "cell_type": "markdown",
   "id": "07856c96",
   "metadata": {},
   "source": [
    "# Step 3: Visualising the dataset"
   ]
  },
  {
   "cell_type": "markdown",
   "id": "e0042ce1",
   "metadata": {},
   "source": [
    "# 1. Plot the counts of each rating"
   ]
  },
  {
   "cell_type": "code",
   "execution_count": 61,
   "id": "2523a337",
   "metadata": {},
   "outputs": [
    {
     "data": {
      "text/html": [
       "<div>\n",
       "<style scoped>\n",
       "    .dataframe tbody tr th:only-of-type {\n",
       "        vertical-align: middle;\n",
       "    }\n",
       "\n",
       "    .dataframe tbody tr th {\n",
       "        vertical-align: top;\n",
       "    }\n",
       "\n",
       "    .dataframe thead th {\n",
       "        text-align: right;\n",
       "    }\n",
       "</style>\n",
       "<table border=\"1\" class=\"dataframe\">\n",
       "  <thead>\n",
       "    <tr style=\"text-align: right;\">\n",
       "      <th></th>\n",
       "      <th>count</th>\n",
       "      <th>log_count</th>\n",
       "    </tr>\n",
       "  </thead>\n",
       "  <tbody>\n",
       "    <tr>\n",
       "      <th>0.0</th>\n",
       "      <td>5830804</td>\n",
       "      <td>15.578665</td>\n",
       "    </tr>\n",
       "    <tr>\n",
       "      <th>0.5</th>\n",
       "      <td>1370</td>\n",
       "      <td>7.222566</td>\n",
       "    </tr>\n",
       "    <tr>\n",
       "      <th>1.0</th>\n",
       "      <td>2811</td>\n",
       "      <td>7.941296</td>\n",
       "    </tr>\n",
       "    <tr>\n",
       "      <th>1.5</th>\n",
       "      <td>1791</td>\n",
       "      <td>7.490529</td>\n",
       "    </tr>\n",
       "    <tr>\n",
       "      <th>2.0</th>\n",
       "      <td>7551</td>\n",
       "      <td>8.929435</td>\n",
       "    </tr>\n",
       "    <tr>\n",
       "      <th>2.5</th>\n",
       "      <td>5550</td>\n",
       "      <td>8.621553</td>\n",
       "    </tr>\n",
       "    <tr>\n",
       "      <th>3.0</th>\n",
       "      <td>20047</td>\n",
       "      <td>9.905835</td>\n",
       "    </tr>\n",
       "    <tr>\n",
       "      <th>3.5</th>\n",
       "      <td>13136</td>\n",
       "      <td>9.483112</td>\n",
       "    </tr>\n",
       "    <tr>\n",
       "      <th>4.0</th>\n",
       "      <td>26818</td>\n",
       "      <td>10.196829</td>\n",
       "    </tr>\n",
       "    <tr>\n",
       "      <th>4.5</th>\n",
       "      <td>8551</td>\n",
       "      <td>9.053804</td>\n",
       "    </tr>\n",
       "    <tr>\n",
       "      <th>5.0</th>\n",
       "      <td>13211</td>\n",
       "      <td>9.488805</td>\n",
       "    </tr>\n",
       "  </tbody>\n",
       "</table>\n",
       "</div>"
      ],
      "text/plain": [
       "       count  log_count\n",
       "0.0  5830804  15.578665\n",
       "0.5     1370   7.222566\n",
       "1.0     2811   7.941296\n",
       "1.5     1791   7.490529\n",
       "2.0     7551   8.929435\n",
       "2.5     5550   8.621553\n",
       "3.0    20047   9.905835\n",
       "3.5    13136   9.483112\n",
       "4.0    26818  10.196829\n",
       "4.5     8551   9.053804\n",
       "5.0    13211   9.488805"
      ]
     },
     "execution_count": 61,
     "metadata": {},
     "output_type": "execute_result"
    }
   ],
   "source": [
    "# we first need to get the counts of each rating from ratings data\n",
    "ratings_count = pd.DataFrame(ratings.groupby('rating').size(), columns=['count'])\n",
    "total_count = users*items\n",
    "zero_count = total_count - ratings.shape[0]\n",
    "ratings_count = ratings_count.append(pd.DataFrame({'count': zero_count}, index=[0.0]),).sort_index()\n",
    "ratings_count['log_count'] = np.log(ratings_count['count'])\n",
    "\n",
    "ratings_count"
   ]
  },
  {
   "cell_type": "code",
   "execution_count": 82,
   "id": "dce99f67",
   "metadata": {},
   "outputs": [
    {
     "data": {
      "text/plain": [
       "Text(0, 0.5, 'number of ratings')"
      ]
     },
     "execution_count": 82,
     "metadata": {},
     "output_type": "execute_result"
    },
    {
     "data": {
      "image/png": "[encoded data removed]",
      "text/plain": [
       "<Figure size 864x576 with 1 Axes>"
      ]
     },
     "metadata": {
      "needs_background": "light"
     },
     "output_type": "display_data"
    }
   ],
   "source": [
    "ax = ratings_count[['count']].reset_index().rename(columns={'index': 'rating score'}).plot(\n",
    "    x='rating score', y='count', kind='bar', figsize=(12, 8), title='Count for Each Rating Score (in Log Scale)',\n",
    "    logy=True, fontsize=12, )\n",
    "    \n",
    "ax.set_xlabel(\"movie rating score\")\n",
    "ax.set_ylabel(\"number of ratings\")"
   ]
  },
  {
   "cell_type": "markdown",
   "id": "1e3b1ab1",
   "metadata": {},
   "source": [
    "# 2. Plot rating frequency of all movies"
   ]
  },
  {
   "cell_type": "code",
   "execution_count": 63,
   "id": "ce4ba9ef",
   "metadata": {},
   "outputs": [
    {
     "data": {
      "text/html": [
       "<div>\n",
       "<style scoped>\n",
       "    .dataframe tbody tr th:only-of-type {\n",
       "        vertical-align: middle;\n",
       "    }\n",
       "\n",
       "    .dataframe tbody tr th {\n",
       "        vertical-align: top;\n",
       "    }\n",
       "\n",
       "    .dataframe thead th {\n",
       "        text-align: right;\n",
       "    }\n",
       "</style>\n",
       "<table border=\"1\" class=\"dataframe\">\n",
       "  <thead>\n",
       "    <tr style=\"text-align: right;\">\n",
       "      <th></th>\n",
       "      <th>userId</th>\n",
       "      <th>movieId</th>\n",
       "      <th>rating</th>\n",
       "    </tr>\n",
       "  </thead>\n",
       "  <tbody>\n",
       "    <tr>\n",
       "      <th>0</th>\n",
       "      <td>1</td>\n",
       "      <td>1</td>\n",
       "      <td>4.0</td>\n",
       "    </tr>\n",
       "    <tr>\n",
       "      <th>1</th>\n",
       "      <td>1</td>\n",
       "      <td>3</td>\n",
       "      <td>4.0</td>\n",
       "    </tr>\n",
       "    <tr>\n",
       "      <th>2</th>\n",
       "      <td>1</td>\n",
       "      <td>6</td>\n",
       "      <td>4.0</td>\n",
       "    </tr>\n",
       "    <tr>\n",
       "      <th>3</th>\n",
       "      <td>1</td>\n",
       "      <td>47</td>\n",
       "      <td>5.0</td>\n",
       "    </tr>\n",
       "    <tr>\n",
       "      <th>4</th>\n",
       "      <td>1</td>\n",
       "      <td>50</td>\n",
       "      <td>5.0</td>\n",
       "    </tr>\n",
       "  </tbody>\n",
       "</table>\n",
       "</div>"
      ],
      "text/plain": [
       "   userId  movieId  rating\n",
       "0       1        1     4.0\n",
       "1       1        3     4.0\n",
       "2       1        6     4.0\n",
       "3       1       47     5.0\n",
       "4       1       50     5.0"
      ]
     },
     "execution_count": 63,
     "metadata": {},
     "output_type": "execute_result"
    }
   ],
   "source": [
    "ratings.head()"
   ]
  },
  {
   "cell_type": "code",
   "execution_count": 64,
   "id": "fe90b558",
   "metadata": {},
   "outputs": [
    {
     "data": {
      "text/html": [
       "<div>\n",
       "<style scoped>\n",
       "    .dataframe tbody tr th:only-of-type {\n",
       "        vertical-align: middle;\n",
       "    }\n",
       "\n",
       "    .dataframe tbody tr th {\n",
       "        vertical-align: top;\n",
       "    }\n",
       "\n",
       "    .dataframe thead th {\n",
       "        text-align: right;\n",
       "    }\n",
       "</style>\n",
       "<table border=\"1\" class=\"dataframe\">\n",
       "  <thead>\n",
       "    <tr style=\"text-align: right;\">\n",
       "      <th></th>\n",
       "      <th>count</th>\n",
       "    </tr>\n",
       "    <tr>\n",
       "      <th>movieId</th>\n",
       "      <th></th>\n",
       "    </tr>\n",
       "  </thead>\n",
       "  <tbody>\n",
       "    <tr>\n",
       "      <th>1</th>\n",
       "      <td>215</td>\n",
       "    </tr>\n",
       "    <tr>\n",
       "      <th>2</th>\n",
       "      <td>110</td>\n",
       "    </tr>\n",
       "    <tr>\n",
       "      <th>3</th>\n",
       "      <td>52</td>\n",
       "    </tr>\n",
       "    <tr>\n",
       "      <th>4</th>\n",
       "      <td>7</td>\n",
       "    </tr>\n",
       "    <tr>\n",
       "      <th>5</th>\n",
       "      <td>49</td>\n",
       "    </tr>\n",
       "  </tbody>\n",
       "</table>\n",
       "</div>"
      ],
      "text/plain": [
       "         count\n",
       "movieId       \n",
       "1          215\n",
       "2          110\n",
       "3           52\n",
       "4            7\n",
       "5           49"
      ]
     },
     "execution_count": 64,
     "metadata": {},
     "output_type": "execute_result"
    }
   ],
   "source": [
    "movies_count = pd.DataFrame(ratings.groupby('movieId').size(), columns=['count'])\n",
    "movies_count.head()"
   ]
  },
  {
   "cell_type": "code",
   "execution_count": 84,
   "id": "2f41c980",
   "metadata": {},
   "outputs": [
    {
     "data": {
      "text/plain": [
       "Text(0, 0.5, 'number of ratings')"
      ]
     },
     "execution_count": 84,
     "metadata": {},
     "output_type": "execute_result"
    },
    {
     "data": {
      "image/png": "[encoded data removed]",
      "text/plain": [
       "<Figure size 864x576 with 1 Axes>"
      ]
     },
     "metadata": {
      "needs_background": "light"
     },
     "output_type": "display_data"
    }
   ],
   "source": [
    "ax = movies_count \\\n",
    "    .sort_values('count', ascending=False) \\\n",
    "    .reset_index(drop=True) \\\n",
    "    .plot( figsize=(12, 8), title='Rating Frequency of All Movies', fontsize=12 )\n",
    "\n",
    "ax.set_xlabel(\"movie Id\")\n",
    "ax.set_ylabel(\"number of ratings\")"
   ]
  },
  {
   "cell_type": "markdown",
   "id": "a933e50b",
   "metadata": {},
   "source": [
    "# 3. Plot rating frequency of all movies in log scale"
   ]
  },
  {
   "cell_type": "code",
   "execution_count": 85,
   "id": "25d40653",
   "metadata": {},
   "outputs": [
    {
     "data": {
      "text/plain": [
       "Text(0, 0.5, 'number of ratings (log scale)')"
      ]
     },
     "execution_count": 85,
     "metadata": {},
     "output_type": "execute_result"
    },
    {
     "data": {
      "image/png": "[encoded data removed]",
      "text/plain": [
       "<Figure size 864x576 with 1 Axes>"
      ]
     },
     "metadata": {
      "needs_background": "light"
     },
     "output_type": "display_data"
    }
   ],
   "source": [
    "ax = movies_count \\\n",
    "    .sort_values('count', ascending=False) \\\n",
    "    .reset_index(drop=True) \\\n",
    "    .plot( figsize=(12, 8), title='Rating Frequency of All Movies (in Log Scale)', fontsize=12, logy=True )\n",
    "\n",
    "ax.set_xlabel(\"movie Id\")\n",
    "ax.set_ylabel(\"number of ratings (log scale)\")"
   ]
  },
  {
   "cell_type": "code",
   "execution_count": 67,
   "id": "d7e16fd4",
   "metadata": {},
   "outputs": [
    {
     "data": {
      "text/plain": [
       "1.00    329.0\n",
       "0.95     47.0\n",
       "0.90     27.0\n",
       "0.85     17.0\n",
       "0.80     12.0\n",
       "0.75      9.0\n",
       "0.70      7.0\n",
       "0.65      5.0\n",
       "Name: count, dtype: float64"
      ]
     },
     "execution_count": 67,
     "metadata": {},
     "output_type": "execute_result"
    }
   ],
   "source": [
    "movies_count['count'].quantile(np.arange(1, 0.6, -0.05))"
   ]
  },
  {
   "cell_type": "markdown",
   "id": "d1aa3ced",
   "metadata": {},
   "source": [
    "# Step 4: Flitering the dataset"
   ]
  },
  {
   "cell_type": "markdown",
   "id": "960fb4e4",
   "metadata": {},
   "source": [
    "# 1. Filtering the unpopular movies"
   ]
  },
  {
   "cell_type": "code",
   "execution_count": 91,
   "id": "99058c11",
   "metadata": {},
   "outputs": [
    {
     "name": "stdout",
     "output_type": "stream",
     "text": [
      "shape of original ratings data:  (100836, 3)\n",
      "shape of ratings data after dropping unpopular movies:  (41360, 3)\n"
     ]
    }
   ],
   "source": [
    "popularity_thres = 50\n",
    "popular_movies = list(set(movies_count.query('count >= @popularity_thres').index))\n",
    "ratings_drop_movies = ratings[ratings.movieId.isin(popular_movies)]\n",
    "\n",
    "print('shape of original ratings data: ', ratings.shape)\n",
    "print('shape of ratings data after dropping unpopular movies: ', ratings_drop_movies.shape)"
   ]
  },
  {
   "cell_type": "code",
   "execution_count": 69,
   "id": "253c42e9",
   "metadata": {},
   "outputs": [
    {
     "data": {
      "text/html": [
       "<div>\n",
       "<style scoped>\n",
       "    .dataframe tbody tr th:only-of-type {\n",
       "        vertical-align: middle;\n",
       "    }\n",
       "\n",
       "    .dataframe tbody tr th {\n",
       "        vertical-align: top;\n",
       "    }\n",
       "\n",
       "    .dataframe thead th {\n",
       "        text-align: right;\n",
       "    }\n",
       "</style>\n",
       "<table border=\"1\" class=\"dataframe\">\n",
       "  <thead>\n",
       "    <tr style=\"text-align: right;\">\n",
       "      <th></th>\n",
       "      <th>count</th>\n",
       "    </tr>\n",
       "    <tr>\n",
       "      <th>userId</th>\n",
       "      <th></th>\n",
       "    </tr>\n",
       "  </thead>\n",
       "  <tbody>\n",
       "    <tr>\n",
       "      <th>1</th>\n",
       "      <td>117</td>\n",
       "    </tr>\n",
       "    <tr>\n",
       "      <th>2</th>\n",
       "      <td>15</td>\n",
       "    </tr>\n",
       "    <tr>\n",
       "      <th>3</th>\n",
       "      <td>6</td>\n",
       "    </tr>\n",
       "    <tr>\n",
       "      <th>4</th>\n",
       "      <td>84</td>\n",
       "    </tr>\n",
       "    <tr>\n",
       "      <th>5</th>\n",
       "      <td>34</td>\n",
       "    </tr>\n",
       "  </tbody>\n",
       "</table>\n",
       "</div>"
      ],
      "text/plain": [
       "        count\n",
       "userId       \n",
       "1         117\n",
       "2          15\n",
       "3           6\n",
       "4          84\n",
       "5          34"
      ]
     },
     "execution_count": 69,
     "metadata": {},
     "output_type": "execute_result"
    }
   ],
   "source": [
    "users_count = pd.DataFrame(ratings_drop_movies.groupby('userId').size(), columns=['count'])\n",
    "users_count.head()"
   ]
  },
  {
   "cell_type": "code",
   "execution_count": 70,
   "id": "0904cf1b",
   "metadata": {},
   "outputs": [
    {
     "data": {
      "text/plain": [
       "Text(0, 0.5, 'number of ratings')"
      ]
     },
     "execution_count": 70,
     "metadata": {},
     "output_type": "execute_result"
    },
    {
     "data": {
      "image/png": "[encoded data removed]",
      "text/plain": [
       "<Figure size 864x576 with 1 Axes>"
      ]
     },
     "metadata": {
      "needs_background": "light"
     },
     "output_type": "display_data"
    }
   ],
   "source": [
    "# plot rating frequency of all movies\n",
    "ax = users_count \\\n",
    "    .sort_values('count', ascending=False) \\\n",
    "    .reset_index(drop=True) \\\n",
    "    .plot( figsize=(12, 8), title='Rating Frequency of All Users', fontsize=12)\n",
    "\n",
    "ax.set_xlabel(\"user Id\")\n",
    "ax.set_ylabel(\"number of ratings\")"
   ]
  },
  {
   "cell_type": "code",
   "execution_count": 71,
   "id": "b52ebcb5",
   "metadata": {},
   "outputs": [
    {
     "data": {
      "text/plain": [
       "1.00    429.00\n",
       "0.95    223.50\n",
       "0.90    166.00\n",
       "0.85    134.25\n",
       "0.80    105.00\n",
       "0.75     85.00\n",
       "0.70     74.00\n",
       "0.65     62.25\n",
       "0.60     56.00\n",
       "0.55     48.00\n",
       "Name: count, dtype: float64"
      ]
     },
     "execution_count": 71,
     "metadata": {},
     "output_type": "execute_result"
    }
   ],
   "source": [
    "users_count['count'].quantile(np.arange(1, 0.5, -0.05))"
   ]
  },
  {
   "cell_type": "markdown",
   "id": "d5ea1504",
   "metadata": {},
   "source": [
    "# 2. Filtering the inactive users."
   ]
  },
  {
   "cell_type": "code",
   "execution_count": 72,
   "id": "7aca6a96",
   "metadata": {},
   "outputs": [
    {
     "name": "stdout",
     "output_type": "stream",
     "text": [
      "shape of original ratings data:  (100836, 3)\n",
      "shape of ratings data after dropping both unpopular movies and inactive users:  (32999, 3)\n"
     ]
    }
   ],
   "source": [
    "ratings_thres = 50\n",
    "active_users = list(set(users_count.query('count >= @ratings_thres').index))\n",
    "ratings_drop_users = ratings_drop_movies[ratings_drop_movies.userId.isin(active_users)]\n",
    "\n",
    "print('shape of original ratings data: ', ratings.shape)\n",
    "print('shape of ratings data after dropping both unpopular movies and inactive users: ', ratings_drop_users.shape)"
   ]
  },
  {
   "cell_type": "markdown",
   "id": "251d8cd5",
   "metadata": {},
   "source": [
    "# Part B: Building the KNN model for collaborative filtering"
   ]
  },
  {
   "cell_type": "markdown",
   "id": "f7b26dfc",
   "metadata": {},
   "source": [
    "# Step 1: Reshaping  the data "
   ]
  },
  {
   "cell_type": "code",
   "execution_count": 86,
   "id": "0dd55694",
   "metadata": {},
   "outputs": [],
   "source": [
    "# create movie-user matrix\n",
    "movie_user_mat = ratings_drop_users.pivot(index='movieId', columns='userId', values='rating').fillna(0)\n",
    "\n",
    "# create mapper from movie title to index\n",
    "movie_to_idx = { movie: i for i, movie in enumerate(list(movies.set_index('movieId').loc[movie_user_mat.index].title)) }\n",
    "\n",
    "# transform matrix to scipy sparse matrix\n",
    "from scipy.sparse import csr_matrix\n",
    "movie_user_mat_sparse = csr_matrix(movie_user_mat.values)"
   ]
  },
  {
   "cell_type": "markdown",
   "id": "e8ccbd05",
   "metadata": {},
   "source": [
    "# Step 2: Fitting the Model"
   ]
  },
  {
   "cell_type": "code",
   "execution_count": 87,
   "id": "b16820fb",
   "metadata": {},
   "outputs": [
    {
     "data": {
      "text/plain": [
       "NearestNeighbors(algorithm='brute', metric='cosine', n_neighbors=20)"
      ]
     },
     "execution_count": 87,
     "metadata": {},
     "output_type": "execute_result"
    }
   ],
   "source": [
    "from sklearn.neighbors import NearestNeighbors\n",
    "model_knn = NearestNeighbors(metric='cosine', algorithm='brute', n_neighbors=20,p=2)\n",
    "model_knn.fit(movie_user_mat_sparse)"
   ]
  },
  {
   "cell_type": "markdown",
   "id": "268af0fd",
   "metadata": {},
   "source": [
    "# Step 3: Testing the model"
   ]
  },
  {
   "cell_type": "code",
   "execution_count": 88,
   "id": "6f5f7235",
   "metadata": {},
   "outputs": [],
   "source": [
    "from fuzzywuzzy import fuzz\n",
    "import math\n",
    "import time\n",
    "\n",
    "def matching(mapper, fav_movie):\n",
    "    match_tuple = []\n",
    "    \n",
    "    for title, idx in mapper.items():\n",
    "        ratio = fuzz.ratio(title.lower(), fav_movie.lower())\n",
    "        if ratio >= 60:\n",
    "            match_tuple.append((title, idx, ratio))\n",
    "    \n",
    "    match_tuple = sorted(match_tuple, key=lambda x: x[2])[::-1]\n",
    "    if not match_tuple:\n",
    "        print('Oops! No match is found')\n",
    "        return\n",
    "    else:\n",
    "        print('Found possible matches in our database: {0}\\n'.format([x[0] for x in match_tuple]))\n",
    "    return match_tuple[0][1]\n",
    "\n",
    "\n",
    "def make_recommendation(model_knn, data, mapper, fav_movie, n_recommendations):\n",
    "    model_knn.fit(data)\n",
    "    \n",
    "    print('You have input movie:', fav_movie)\n",
    "    idx = matching(mapper, fav_movie)\n",
    "    \n",
    "    distances, indices = model_knn.kneighbors(data[idx], n_neighbors=n_recommendations+1)\n",
    "    \n",
    "    raw_recommends = sorted(list(zip(indices.squeeze().tolist(), distances.squeeze().tolist())), key=lambda x: x[1])[:0:-1]\n",
    "    \n",
    "    reverse_mapper = {v: k for k, v in mapper.items()}\n",
    "    \n",
    "    print('Recommendations for {} are as follows:\\n'.format(fav_movie))\n",
    "    \n",
    "    for i, (idx, dist) in enumerate(raw_recommends):\n",
    "        print('{0}: {1}, with distance of {2}'.format(i+1, reverse_mapper[idx], dist))"
   ]
  },
  {
   "cell_type": "code",
   "execution_count": 89,
   "id": "d358e5d5",
   "metadata": {},
   "outputs": [
    {
     "name": "stdout",
     "output_type": "stream",
     "text": [
      "You have input movie: Iron man\n",
      "Found possible matches in our database: ['Iron Man (2008)']\n",
      "\n",
      "Recommendations for Iron man are as follows:\n",
      "\n",
      "1: Batman Begins (2005), with distance of 0.34744154173084363\n",
      "2: Sherlock Holmes (2009), with distance of 0.3463540530285869\n",
      "3: Kung Fu Panda (2008), with distance of 0.34323498779508776\n",
      "4: Inception (2010), with distance of 0.33073992134058794\n",
      "5: District 9 (2009), with distance of 0.3187720802539473\n",
      "6: Up (2009), with distance of 0.31706735090314886\n",
      "7: WALL·E (2008), with distance of 0.27033112296383466\n",
      "8: Avengers, The (2012), with distance of 0.2610290662950412\n",
      "9: Avatar (2009), with distance of 0.2599024893009969\n",
      "10: Dark Knight, The (2008), with distance of 0.24019004841992464\n"
     ]
    }
   ],
   "source": [
    "my_favorite = 'Iron man'\n",
    "\n",
    "make_recommendation( model_knn=model_knn, data=movie_user_mat_sparse, fav_movie=my_favorite, mapper=movie_to_idx, \n",
    "                    n_recommendations=10)"
   ]
  },
  {
   "cell_type": "markdown",
   "id": "2e9785c9",
   "metadata": {},
   "source": [
    "# Part C: Calulate how sparse is the movie-user matrix"
   ]
  },
  {
   "cell_type": "code",
   "execution_count": 90,
   "id": "28acd6a4",
   "metadata": {},
   "outputs": [
    {
     "name": "stdout",
     "output_type": "stream",
     "text": [
      "There is about 72.64% of ratings in our data is missing\n"
     ]
    }
   ],
   "source": [
    "# num_entries = total number of entries in the movie-user matrix\n",
    "num_entries = movie_user_mat.shape[0] * movie_user_mat.shape[1]\n",
    "\n",
    "# num_zeros = total number of entries with zero values\n",
    "num_zeros = (movie_user_mat==0).sum(axis=1).sum()\n",
    "\n",
    "# calculate ratio of number of zeros to number of entries\n",
    "ratio_zeros = num_zeros / num_entries\n",
    "\n",
    "print('There is about {:.2%} of ratings in our data is missing'.format(ratio_zeros))"
   ]
  },
  {
   "cell_type": "code",
   "execution_count": null,
   "id": "9d45682d",
   "metadata": {},
   "outputs": [],
   "source": []
  }
 ],
 "metadata": {
  "kernelspec": {
   "display_name": "Python 3 (ipykernel)",
   "language": "python",
   "name": "python3"
  },
  "language_info": {
   "codemirror_mode": {
    "name": "ipython",
    "version": 3
   },
   "file_extension": ".py",
   "mimetype": "text/x-python",
   "name": "python",
   "nbconvert_exporter": "python",
   "pygments_lexer": "ipython3",
   "version": "3.8.11"
  }
 },
 "nbformat": 4,
 "nbformat_minor": 5
}
